{
 "cells": [
  {
   "cell_type": "code",
   "execution_count": 1,
   "metadata": {},
   "outputs": [],
   "source": [
    "import numpy as np\n",
    "\n",
    "def ReLu(x):\n",
    "    return np.maximum(0,x)\n",
    "\n",
    "def Softmax(x):\n",
    "    e_x = np.exp(x)\n",
    "    return e_x / e_x.sum()"
   ]
  },
  {
   "cell_type": "code",
   "execution_count": 2,
   "metadata": {},
   "outputs": [
    {
     "name": "stdout",
     "output_type": "stream",
     "text": [
      "(2, 3)\n"
     ]
    }
   ],
   "source": [
    "w1=np.array([[1,-2,1],[3,4,-2]])\n",
    "w2=np.array([[1,-2],[3,4]])\n",
    "w3=np.array([[2,2],[3,-3],[2,1]])\n",
    "b1=np.array([[1],[-1]])\n",
    "b2=np.array([[1],[0]])\n",
    "b3=np.array([[0],[-4],[-2]])\n",
    "print(w1.shape)"
   ]
  },
  {
   "cell_type": "code",
   "execution_count": 3,
   "metadata": {},
   "outputs": [],
   "source": [
    "x=np.array([[1],[-1],[1]])"
   ]
  },
  {
   "cell_type": "code",
   "execution_count": 4,
   "metadata": {},
   "outputs": [
    {
     "name": "stdout",
     "output_type": "stream",
     "text": [
      "[[5]\n",
      " [0]]\n",
      "[[ 6]\n",
      " [15]]\n",
      "[[9.99999959e-01]\n",
      " [1.97925980e-32]\n",
      " [4.13993755e-08]]\n"
     ]
    }
   ],
   "source": [
    "x1=ReLu(w1@x+b1)\n",
    "print(x1)\n",
    "x2=ReLu(w2@x1+b2)\n",
    "print(x2)\n",
    "x3=Softmax(w3@x2+b3)\n",
    "print(x3)"
   ]
  },
  {
   "cell_type": "code",
   "execution_count": 5,
   "metadata": {},
   "outputs": [],
   "source": [
    "learning=0.5\n",
    "y=np.array([[0],[0],[1]])"
   ]
  },
  {
   "cell_type": "code",
   "execution_count": 6,
   "metadata": {},
   "outputs": [],
   "source": [
    "error=y-x3\n"
   ]
  },
  {
   "cell_type": "code",
   "execution_count": 7,
   "metadata": {},
   "outputs": [
    {
     "name": "stdout",
     "output_type": "stream",
     "text": [
      "[[-9.99999959e-01]\n",
      " [-1.97925980e-32]\n",
      " [ 9.99999959e-01]]\n"
     ]
    }
   ],
   "source": [
    "print(error)"
   ]
  },
  {
   "cell_type": "code",
   "execution_count": 7,
   "metadata": {},
   "outputs": [],
   "source": [
    "w3_head=w3-learning*x2.T*error"
   ]
  },
  {
   "cell_type": "code",
   "execution_count": 8,
   "metadata": {
    "scrolled": true
   },
   "outputs": [
    {
     "name": "stdout",
     "output_type": "stream",
     "text": [
      "[[ 4.99999988  9.49999969]\n",
      " [ 3.         -3.        ]\n",
      " [-0.99999988 -6.49999969]]\n"
     ]
    }
   ],
   "source": [
    "print(w3_head)"
   ]
  },
  {
   "cell_type": "code",
   "execution_count": 9,
   "metadata": {},
   "outputs": [
    {
     "name": "stdout",
     "output_type": "stream",
     "text": [
      "[[ 0.49999998]\n",
      " [-4.        ]\n",
      " [-2.49999998]]\n"
     ]
    }
   ],
   "source": [
    "b3_head=b3-learning*error\n",
    "print(b3_head)"
   ]
  },
  {
   "cell_type": "code",
   "execution_count": 10,
   "metadata": {},
   "outputs": [
    {
     "name": "stdout",
     "output_type": "stream",
     "text": [
      "[[5]\n",
      " [0]]\n"
     ]
    }
   ],
   "source": [
    "print(x1)"
   ]
  },
  {
   "cell_type": "code",
   "execution_count": 11,
   "metadata": {},
   "outputs": [
    {
     "name": "stdout",
     "output_type": "stream",
     "text": [
      "[[  0.        ]\n",
      " [-14.99999938]]\n"
     ]
    }
   ],
   "source": [
    "error2=((w3.T)@error)*x2\n",
    "print(error2)"
   ]
  },
  {
   "cell_type": "code",
   "execution_count": 12,
   "metadata": {},
   "outputs": [
    {
     "name": "stdout",
     "output_type": "stream",
     "text": [
      "[[ 1.         -2.        ]\n",
      " [40.49999845  4.        ]]\n",
      "[[1.        ]\n",
      " [7.49999969]]\n"
     ]
    }
   ],
   "source": [
    "w2_head=w2-learning*error2*x1.T\n",
    "b2_head=b2-learning*error2\n",
    "print(w2_head)\n",
    "print(b2_head)"
   ]
  },
  {
   "cell_type": "code",
   "execution_count": 13,
   "metadata": {},
   "outputs": [
    {
     "name": "stdout",
     "output_type": "stream",
     "text": [
      "[[-224.99999069]\n",
      " [  -0.        ]]\n"
     ]
    }
   ],
   "source": [
    "error3=(w2.T@error2)*x1\n",
    "print(error3)"
   ]
  },
  {
   "cell_type": "code",
   "execution_count": 14,
   "metadata": {},
   "outputs": [
    {
     "name": "stdout",
     "output_type": "stream",
     "text": [
      "[[ 113.49999534 -114.49999534  113.49999534]\n",
      " [   3.            4.           -2.        ]]\n",
      "[[113.49999534]\n",
      " [ -1.        ]]\n"
     ]
    }
   ],
   "source": [
    "w3_head=w1-learning*error3*x.T\n",
    "b3_head=b1-learning*error3\n",
    "print(w3_head)\n",
    "print(b3_head)"
   ]
  }
 ],
 "metadata": {
  "kernelspec": {
   "display_name": "Python 3",
   "language": "python",
   "name": "python3"
  },
  "language_info": {
   "codemirror_mode": {
    "name": "ipython",
    "version": 3
   },
   "file_extension": ".py",
   "mimetype": "text/x-python",
   "name": "python",
   "nbconvert_exporter": "python",
   "pygments_lexer": "ipython3",
   "version": "3.6.5"
  }
 },
 "nbformat": 4,
 "nbformat_minor": 2
}
