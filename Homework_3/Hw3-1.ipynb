{
 "cells": [
  {
   "cell_type": "markdown",
   "metadata": {},
   "source": [
    "# Hw3-1"
   ]
  },
  {
   "cell_type": "code",
   "execution_count": 8,
   "metadata": {},
   "outputs": [],
   "source": [
    "import h5py\n",
    "import numpy as np\n",
    "import matplotlib.pyplot as plt "
   ]
  },
  {
   "cell_type": "code",
   "execution_count": 9,
   "metadata": {},
   "outputs": [
    {
     "name": "stdout",
     "output_type": "stream",
     "text": [
      "['xdata', 'ydata']\n"
     ]
    }
   ],
   "source": [
    "DATA_NAME = 'mnist_traindata.hdf5'\n",
    "with h5py.File(DATA_NAME, 'r') as hf:\n",
    "    print(list(hf.keys()))\n",
    "    xdata = hf['xdata'][:]\n",
    "    ydata = hf['ydata'][:]"
   ]
  },
  {
   "cell_type": "code",
   "execution_count": 10,
   "metadata": {},
   "outputs": [
    {
     "name": "stdout",
     "output_type": "stream",
     "text": [
      "['xdata', 'ydata']\n"
     ]
    }
   ],
   "source": [
    "TEST_NAME = 'mnist_testdata.hdf5'\n",
    "with h5py.File(TEST_NAME, 'r') as hf:\n",
    "    print(list(hf.keys()))\n",
    "    x_test = hf['xdata'][:]\n",
    "    y_test = hf['ydata'][:]"
   ]
  },
  {
   "cell_type": "code",
   "execution_count": 11,
   "metadata": {},
   "outputs": [
    {
     "name": "stdout",
     "output_type": "stream",
     "text": [
      "(60000, 784)\n",
      "(60000, 10)\n"
     ]
    }
   ],
   "source": [
    "print(xdata.shape)\n",
    "print(ydata.shape)"
   ]
  },
  {
   "cell_type": "code",
   "execution_count": 12,
   "metadata": {},
   "outputs": [
    {
     "name": "stdout",
     "output_type": "stream",
     "text": [
      "(10000, 784)\n"
     ]
    }
   ],
   "source": [
    "print(x_test.shape)"
   ]
  },
  {
   "cell_type": "markdown",
   "metadata": {},
   "source": [
    "# (a)"
   ]
  },
  {
   "cell_type": "code",
   "execution_count": 13,
   "metadata": {},
   "outputs": [],
   "source": [
    "def SplitData(xdata,train_num):\n",
    "    x_train=xdata[:train_num][:]\n",
    "    x_val=xdata[train_num:][:]\n",
    "    return x_train,x_val"
   ]
  },
  {
   "cell_type": "code",
   "execution_count": 14,
   "metadata": {},
   "outputs": [
    {
     "name": "stdout",
     "output_type": "stream",
     "text": [
      "(50000, 784)\n",
      "(10000, 784)\n",
      "(50000, 10)\n",
      "(10000, 10)\n",
      "[0. 0. 0. 0. 0. 1. 0. 0. 0. 0.]\n"
     ]
    }
   ],
   "source": [
    "x_train,x_val=SplitData(xdata,50000)\n",
    "y_train,y_val=SplitData(ydata,50000)\n",
    "print(x_train.shape)\n",
    "print(x_val.shape)\n",
    "print(y_train.shape)\n",
    "print(y_val.shape)\n",
    "print(y_train[0])"
   ]
  },
  {
   "cell_type": "markdown",
   "metadata": {},
   "source": [
    "# (b)"
   ]
  },
  {
   "cell_type": "markdown",
   "metadata": {},
   "source": [
    "# b"
   ]
  },
  {
   "cell_type": "code",
   "execution_count": 15,
   "metadata": {},
   "outputs": [],
   "source": [
    "# def hidden_layer(input,output):\n",
    "#     w=np.random.rand(input*output)\n",
    "#     b=np.random.rand(output)\n",
    "#     w=np.reshape(w,(output,input))\n",
    "#     b=np.reshape(b,(output,1))\n",
    "#     return w,b\n",
    "def hidden_layer(input,output):\n",
    "    w = np.random.normal(0, 2 / input, (output, input))\n",
    "    b = np.zeros((output, 1))\n",
    "    return w,b"
   ]
  },
  {
   "cell_type": "markdown",
   "metadata": {},
   "source": [
    "# c"
   ]
  },
  {
   "cell_type": "code",
   "execution_count": 16,
   "metadata": {},
   "outputs": [],
   "source": [
    "def tanh(x):\n",
    "    t=(np.exp(x)-np.exp(-x))/(np.exp(x)+np.exp(-x))\n",
    "    return t\n",
    "def tanh_div(x):\n",
    "    t=(np.exp(x)-np.exp(-x))/(np.exp(x)+np.exp(-x))\n",
    "    dt=1-t**2\n",
    "    return dt\n",
    "def ReLu(x):\n",
    "    return np.maximum(0,x)\n",
    "\n",
    "def ReLU_div(x):\n",
    "    return (x > 0).astype(float)\n",
    "\n",
    "def Softmax(x):\n",
    "    return np.exp(x)/np.sum(np.exp(x), axis=0)[:, None].T"
   ]
  },
  {
   "cell_type": "code",
   "execution_count": 17,
   "metadata": {},
   "outputs": [],
   "source": [
    "def CrossEntropy(y, a):\n",
    "    return -np.sum(y * np.log(a))"
   ]
  },
  {
   "cell_type": "code",
   "execution_count": 19,
   "metadata": {},
   "outputs": [],
   "source": [
    "def update_ReLu(x,y,batch_size,error,l,w1,b1,w2,b2,w3,b3):\n",
    "    regular = 1e-5\n",
    "    x1=ReLu(w1@x+b1)\n",
    "    x2=ReLu(w2@x1+b2)\n",
    "    x3=Softmax(w3@x2+b3)\n",
    "    \n",
    "    result=CrossEntropy(y,x3)\n",
    "    \n",
    "    w3_update=w3-(l*error@(x2.T))/batch_size - 2* regular * w3\n",
    "    b3_update=b3-l*np.sum(error,axis=1)[:,None]/batch_size\n",
    "    \n",
    "    error2=ReLU_div(w2@x1+b2)*(w3.T@error)\n",
    "    w2_update=w2-(l*error2@(x1.T))/batch_size- 2* regular * w2\n",
    "    b2_update=b2-l*np.sum(error2,axis=1)[:,None]/batch_size\n",
    "    \n",
    "    error3=ReLU_div(w1@x+b1)*(w2.T@error2)\n",
    "    w1_update=w1-(l*error3@(x.T))/batch_size- 2* regular * w1\n",
    "    b1_update=b1-l*np.sum(error3,axis=1)[:,None]/batch_size\n",
    "    return w3_update,b3_update,w2_update,b2_update,w1_update,b1_update\n",
    "def update_tanh(x,y,batch_size,error,l,w1,b1,w2,b2,w3,b3):\n",
    "    regular = 1e-5\n",
    "    x1=tanh(w1@x+b1)\n",
    "    x2=tanh(w2@x1+b2)\n",
    "    x3=Softmax(w3@x2+b3)\n",
    "    \n",
    "    w3_update=w3-(l*error@(x2.T))/batch_size - 2* regular * w3\n",
    "    b3_update=b3-l*np.sum(error,axis=1)[:,None]/batch_size\n",
    "    \n",
    "    error2=tanh_div(w2@x1+b2)*(w3.T@error)\n",
    "    w2_update=w2-(l*error2@(x1.T))/batch_size- 2* regular * w2\n",
    "    b2_update=b2-l*np.sum(error2,axis=1)[:,None]/batch_size\n",
    "    \n",
    "    error3=tanh_div(w1@x+b1)*(w2.T@error2)\n",
    "    w1_update=w1-(l*error3@(x.T))/batch_size- 2* regular * w1\n",
    "    b1_update=b1-l*np.sum(error3,axis=1)[:,None]/batch_size\n",
    "    return w3_update,b3_update,w2_update,b2_update,w1_update,b1_update"
   ]
  },
  {
   "cell_type": "code",
   "execution_count": 20,
   "metadata": {},
   "outputs": [],
   "source": [
    "def feedprop_ReLu(x,y,w1,b1,w2,b2,w3,b3):\n",
    "    x=np.reshape(x,(784,1))\n",
    "    y=np.reshape(y,(10,1))\n",
    "    x1=ReLu(w1@x+b1)\n",
    "    x2=ReLu(w2@x1+b2)\n",
    "    x3=Softmax(w3@x2+b3)\n",
    "    error=x3-y\n",
    "    return error\n",
    "def feedprop_tanh(x,y,w1,b1,w2,b2,w3,b3):\n",
    "    x=np.reshape(x,(784,1))\n",
    "    y=np.reshape(y,(10,1))\n",
    "    x1=tanh(w1@x+b1)\n",
    "    x2=tanh(w2@x1+b2)\n",
    "    x3=Softmax(w3@x2+b3)\n",
    "    error=x3-y\n",
    "    return error"
   ]
  },
  {
   "cell_type": "code",
   "execution_count": 21,
   "metadata": {},
   "outputs": [],
   "source": [
    "def eval_model_ReLu(xdata,ydata,w1,b1,w2,b2,w3,b3):\n",
    "    x1=ReLu(w1@xdata.T+b1)\n",
    "    x2=ReLu(w2@x1+b2)\n",
    "    x3=Softmax(w3@x2+b3)\n",
    "    x3=x3.T\n",
    "    \n",
    "    accuracy=0.0\n",
    "    for i in range(xdata.shape[0]):\n",
    "        if(np.argmax(x3[i])==np.argmax(ydata[i])):\n",
    "            accuracy+=1\n",
    "    accuracy=accuracy/ydata.shape[0]\n",
    "    loss=CrossEntropy(ydata,x3)/ydata.shape[0]\n",
    "    return accuracy,loss\n",
    "def eval_model_tanh(xdata,ydata,w1,b1,w2,b2,w3,b3):\n",
    "    x1=tanh(w1@xdata.T+b1)\n",
    "    x2=tanh(w2@x1+b2)\n",
    "    x3=Softmax(w3@x2+b3)\n",
    "    x3=x3.T\n",
    "    \n",
    "    accuracy=0.0\n",
    "    for i in range(xdata.shape[0]):\n",
    "        if(np.argmax(x3[i])==np.argmax(ydata[i])):\n",
    "            accuracy+=1\n",
    "    accuracy=accuracy/ydata.shape[0]\n",
    "    loss=CrossEntropy(ydata,x3)/ydata.shape[0]\n",
    "    return accuracy,loss"
   ]
  },
  {
   "cell_type": "code",
   "execution_count": 22,
   "metadata": {},
   "outputs": [],
   "source": [
    "def nn(x_train,x_val,y_train,y_val,learning_rate,batch_size,epoch=1):\n",
    "    np.random.seed(seed=24)\n",
    "    w1,b1=hidden_layer(784,128)\n",
    "    w2,b2=hidden_layer(128,64)\n",
    "    w3,b3=hidden_layer(64,10)\n",
    "    \n",
    "    train_loss_list=[]\n",
    "    train_acc_list=[]\n",
    "    val_loss_list=[]\n",
    "    val_acc_list=[]\n",
    "    \n",
    "    for times in range(epoch):\n",
    "        for updates in range(int(x_train.shape[0]/batch_size)):\n",
    "            total_error=np.zeros((500,10,1))\n",
    "            for data in range(batch_size):\n",
    "                x=x_train[data+batch_size*updates]\n",
    "                y=y_train[data+batch_size*updates]\n",
    "                total_error[data]=feedprop_ReLu(x,y,w1,b1,w2,b2,w3,b3) \n",
    "            w3,b3,w2,b2,w1,b1=update_ReLu(x_train[updates*batch_size:(updates+1)*batch_size,:].T,\n",
    "                                          y_train[updates*batch_size:(updates+1)*batch_size,:].T,\n",
    "                                          batch_size,np.reshape(total_error,(500,10)).T,learning_rate,\n",
    "                                          w1,b1,w2,b2,w3,b3)\n",
    "                   \n",
    "        train_accuracy,train_loss=eval_model_ReLu(x_train,y_train,w1,b1,w2,b2,w3,b3)\n",
    "        val_accuracy,val_loss=eval_model_ReLu(x_val,y_val,w1,b1,w2,b2,w3,b3)\n",
    "        train_loss_list.append(train_loss)\n",
    "        train_acc_list.append(train_accuracy)\n",
    "        val_loss_list.append(val_loss)\n",
    "        val_acc_list.append(val_accuracy)\n",
    "        \n",
    "        \n",
    "        if(times==19 or times==39):\n",
    "            learning_rate=learning_rate/2\n",
    "        print('Epoch:%d,Train Loss:%f,Training Accuracy:%f,Validation Loss:%f,Validation Accuracy:%f'%(times+1,train_loss,train_accuracy,val_loss,val_accuracy))\n",
    "    return train_loss_list,train_acc_list,val_loss_list,val_acc_list,w1,w2,w3,b1,b2,b3"
   ]
  },
  {
   "cell_type": "code",
   "execution_count": 34,
   "metadata": {},
   "outputs": [
    {
     "name": "stdout",
     "output_type": "stream",
     "text": [
      "Epoch:1,Train Loss:1.464628,Training Accuracy:0.796260,Validation Loss:1.454306,Validation Accuracy:0.811700\n",
      "Epoch:2,Train Loss:0.954405,Training Accuracy:0.864940,Validation Loss:0.938425,Validation Accuracy:0.877500\n",
      "Epoch:3,Train Loss:0.679298,Training Accuracy:0.897460,Validation Loss:0.659628,Validation Accuracy:0.904200\n",
      "Epoch:4,Train Loss:0.517998,Training Accuracy:0.910900,Validation Loss:0.499065,Validation Accuracy:0.916100\n",
      "Epoch:5,Train Loss:0.420044,Training Accuracy:0.918300,Validation Loss:0.406638,Validation Accuracy:0.919900\n",
      "Epoch:6,Train Loss:0.362368,Training Accuracy:0.924180,Validation Loss:0.350130,Validation Accuracy:0.927000\n",
      "Epoch:7,Train Loss:0.325788,Training Accuracy:0.929760,Validation Loss:0.314241,Validation Accuracy:0.932900\n",
      "Epoch:8,Train Loss:0.304235,Training Accuracy:0.933320,Validation Loss:0.297787,Validation Accuracy:0.932500\n",
      "Epoch:9,Train Loss:0.275274,Training Accuracy:0.937660,Validation Loss:0.269274,Validation Accuracy:0.939000\n",
      "Epoch:10,Train Loss:0.257903,Training Accuracy:0.940380,Validation Loss:0.256628,Validation Accuracy:0.940700\n",
      "Epoch:11,Train Loss:0.238438,Training Accuracy:0.944860,Validation Loss:0.239131,Validation Accuracy:0.943700\n",
      "Epoch:12,Train Loss:0.221408,Training Accuracy:0.948240,Validation Loss:0.224892,Validation Accuracy:0.946800\n",
      "Epoch:13,Train Loss:0.220379,Training Accuracy:0.947560,Validation Loss:0.223008,Validation Accuracy:0.947300\n",
      "Epoch:14,Train Loss:0.206132,Training Accuracy:0.952320,Validation Loss:0.210414,Validation Accuracy:0.950500\n",
      "Epoch:15,Train Loss:0.199276,Training Accuracy:0.952420,Validation Loss:0.204159,Validation Accuracy:0.950000\n",
      "Epoch:16,Train Loss:0.189478,Training Accuracy:0.955140,Validation Loss:0.198239,Validation Accuracy:0.950900\n",
      "Epoch:17,Train Loss:0.188475,Training Accuracy:0.954820,Validation Loss:0.197590,Validation Accuracy:0.951500\n",
      "Epoch:18,Train Loss:0.179936,Training Accuracy:0.957900,Validation Loss:0.191925,Validation Accuracy:0.953600\n",
      "Epoch:19,Train Loss:0.169775,Training Accuracy:0.959440,Validation Loss:0.180081,Validation Accuracy:0.955800\n",
      "Epoch:20,Train Loss:0.169201,Training Accuracy:0.959360,Validation Loss:0.178539,Validation Accuracy:0.955100\n",
      "Epoch:21,Train Loss:0.144324,Training Accuracy:0.966960,Validation Loss:0.164021,Validation Accuracy:0.958800\n",
      "Epoch:22,Train Loss:0.139704,Training Accuracy:0.968280,Validation Loss:0.163290,Validation Accuracy:0.959400\n",
      "Epoch:23,Train Loss:0.134836,Training Accuracy:0.969940,Validation Loss:0.159873,Validation Accuracy:0.959100\n",
      "Epoch:24,Train Loss:0.130651,Training Accuracy:0.970720,Validation Loss:0.156877,Validation Accuracy:0.960900\n",
      "Epoch:25,Train Loss:0.128617,Training Accuracy:0.971240,Validation Loss:0.155529,Validation Accuracy:0.960900\n",
      "Epoch:26,Train Loss:0.124013,Training Accuracy:0.972220,Validation Loss:0.153719,Validation Accuracy:0.960700\n",
      "Epoch:27,Train Loss:0.122494,Training Accuracy:0.973080,Validation Loss:0.153264,Validation Accuracy:0.961600\n",
      "Epoch:28,Train Loss:0.122977,Training Accuracy:0.973760,Validation Loss:0.152964,Validation Accuracy:0.961300\n",
      "Epoch:29,Train Loss:0.117224,Training Accuracy:0.975000,Validation Loss:0.149581,Validation Accuracy:0.962000\n",
      "Epoch:30,Train Loss:0.113731,Training Accuracy:0.975760,Validation Loss:0.149164,Validation Accuracy:0.962000\n",
      "Epoch:31,Train Loss:0.110868,Training Accuracy:0.976500,Validation Loss:0.147227,Validation Accuracy:0.961700\n",
      "Epoch:32,Train Loss:0.110870,Training Accuracy:0.976120,Validation Loss:0.148506,Validation Accuracy:0.962100\n",
      "Epoch:33,Train Loss:0.108499,Training Accuracy:0.977340,Validation Loss:0.146509,Validation Accuracy:0.963100\n",
      "Epoch:34,Train Loss:0.106762,Training Accuracy:0.978020,Validation Loss:0.145198,Validation Accuracy:0.963300\n",
      "Epoch:35,Train Loss:0.104497,Training Accuracy:0.978300,Validation Loss:0.144906,Validation Accuracy:0.961400\n",
      "Epoch:36,Train Loss:0.102263,Training Accuracy:0.978740,Validation Loss:0.143130,Validation Accuracy:0.963300\n",
      "Epoch:37,Train Loss:0.102760,Training Accuracy:0.978420,Validation Loss:0.143082,Validation Accuracy:0.962900\n",
      "Epoch:38,Train Loss:0.100374,Training Accuracy:0.979040,Validation Loss:0.142382,Validation Accuracy:0.963100\n",
      "Epoch:39,Train Loss:0.098261,Training Accuracy:0.980040,Validation Loss:0.142040,Validation Accuracy:0.963300\n",
      "Epoch:40,Train Loss:0.097019,Training Accuracy:0.980100,Validation Loss:0.141736,Validation Accuracy:0.962100\n",
      "Epoch:41,Train Loss:0.092104,Training Accuracy:0.981960,Validation Loss:0.139624,Validation Accuracy:0.963600\n",
      "Epoch:42,Train Loss:0.090749,Training Accuracy:0.982440,Validation Loss:0.139237,Validation Accuracy:0.963900\n",
      "Epoch:43,Train Loss:0.089892,Training Accuracy:0.982620,Validation Loss:0.138910,Validation Accuracy:0.963600\n",
      "Epoch:44,Train Loss:0.089306,Training Accuracy:0.982660,Validation Loss:0.138667,Validation Accuracy:0.964000\n",
      "Epoch:45,Train Loss:0.088767,Training Accuracy:0.982800,Validation Loss:0.138247,Validation Accuracy:0.964300\n",
      "Epoch:46,Train Loss:0.088392,Training Accuracy:0.982900,Validation Loss:0.138288,Validation Accuracy:0.963700\n",
      "Epoch:47,Train Loss:0.087948,Training Accuracy:0.982920,Validation Loss:0.138199,Validation Accuracy:0.963400\n",
      "Epoch:48,Train Loss:0.087566,Training Accuracy:0.983000,Validation Loss:0.138160,Validation Accuracy:0.963600\n",
      "Epoch:49,Train Loss:0.087187,Training Accuracy:0.983260,Validation Loss:0.138207,Validation Accuracy:0.963800\n",
      "Epoch:50,Train Loss:0.086696,Training Accuracy:0.983200,Validation Loss:0.138003,Validation Accuracy:0.963800\n"
     ]
    }
   ],
   "source": [
    "learning_rate=0.01\n",
    "batch_size=500\n",
    "train_loss,train_acc,val_loss,val_acc,w1,w2,w3,b1,b2,b3=nn(x_train,x_val,y_train,y_val,learning_rate,batch_size,epoch=50)\n",
    "# learning_rate=0.001\n",
    "# batch_size=500\n",
    "# train_loss,train_acc,val_loss,val_acc,w1,w2,w3,b1,b2,b3=nn(x_train,x_val,y_train,y_val,learning_rate,batch_size,epoch=50)\n",
    "# learning_rate=0.005\n",
    "# batch_size=500\n",
    "# train_loss,train_acc,val_loss,val_acc,w1,w2,w3,b1,b2,b3=nn(x_train,x_val,y_train,y_val,learning_rate,batch_size,epoch=50)"
   ]
  },
  {
   "cell_type": "code",
   "execution_count": 39,
   "metadata": {},
   "outputs": [
    {
     "data": {
      "image/png": "[encoded data removed]",
      "text/plain": [
       "<Figure size 432x288 with 2 Axes>"
      ]
     },
     "metadata": {
      "needs_background": "light"
     },
     "output_type": "display_data"
    }
   ],
   "source": [
    "plt.figure()\n",
    "plt.subplot(211)\n",
    "plt.title('Learning rate=0.01,ReLu')\n",
    "plt.xlabel('epoch')\n",
    "plt.ylabel('accuracy rate')\n",
    "plt.plot(train_acc,c='r',label='training accuracy')\n",
    "plt.plot(val_acc,c='b',label='validation accuracy')\n",
    "plt.legend()\n",
    "plt.subplot(212)\n",
    "plt.xlabel('epoch')\n",
    "plt.ylabel('Loss')\n",
    "plt.plot(train_loss,c='r',label='training loss')\n",
    "plt.plot(val_loss,c='b',label='validation loss')\n",
    "plt.legend()\n",
    "plt.show()"
   ]
  },
  {
   "cell_type": "code",
   "execution_count": 38,
   "metadata": {},
   "outputs": [
    {
     "name": "stdout",
     "output_type": "stream",
     "text": [
      "0.9584\n"
     ]
    }
   ],
   "source": [
    "test_accuracy,test_loss=eval_model_tanh(x_test,y_test,w1,b1,w2,b2,w3,b3)\n",
    "print(test_accuracy)"
   ]
  },
  {
   "cell_type": "code",
   "execution_count": null,
   "metadata": {},
   "outputs": [],
   "source": []
  }
 ],
 "metadata": {
  "kernelspec": {
   "display_name": "Python 3",
   "language": "python",
   "name": "python3"
  },
  "language_info": {
   "codemirror_mode": {
    "name": "ipython",
    "version": 3
   },
   "file_extension": ".py",
   "mimetype": "text/x-python",
   "name": "python",
   "nbconvert_exporter": "python",
   "pygments_lexer": "ipython3",
   "version": "3.6.5"
  }
 },
 "nbformat": 4,
 "nbformat_minor": 2
}
