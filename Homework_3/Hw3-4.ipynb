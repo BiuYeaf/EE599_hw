{
 "cells": [
  {
   "cell_type": "code",
   "execution_count": 1,
   "metadata": {},
   "outputs": [],
   "source": [
    "import h5py\n",
    "import numpy as np\n",
    "import matplotlib.pyplot as plt \n",
    "\n",
    "DATA_NAME = 'binary_random_20fa.hdf5'"
   ]
  },
  {
   "cell_type": "code",
   "execution_count": 2,
   "metadata": {},
   "outputs": [
    {
     "name": "stdout",
     "output_type": "stream",
     "text": [
      "['human', 'machine']\n",
      "(5100, 20)\n",
      "(5100, 20)\n",
      "[ 1.  1. -1. -1. -1. -1.  1.  1. -1. -1. -1.  1. -1.  1. -1. -1. -1. -1.\n",
      "  1.  1.]\n",
      "[ 1  1  1 -1 -1  1  1 -1 -1  1  1 -1 -1 -1 -1 -1  1 -1 -1  1]\n"
     ]
    }
   ],
   "source": [
    "with h5py.File(DATA_NAME, 'r') as hf:\n",
    "    print(list(hf.keys()))\n",
    "    human=hf['human'][:]\n",
    "    machine=hf['machine'][:]\n",
    "    print(human.shape)\n",
    "    print(machine.shape)\n",
    "    print(human[0])\n",
    "    print(machine[0])"
   ]
  },
  {
   "cell_type": "code",
   "execution_count": 3,
   "metadata": {},
   "outputs": [],
   "source": [
    "x = np.vstack(( human, machine))\n",
    "y = np.append( np.ones(np.shape(human)[0]), np.zeros(np.shape(machine)[0]))\n",
    "y = np.reshape(y,(y.shape[0],1))\n",
    "dataset = np.concatenate((x, y), axis=1)\n",
    "np.random.shuffle(dataset)"
   ]
  },
  {
   "cell_type": "code",
   "execution_count": 4,
   "metadata": {},
   "outputs": [],
   "source": [
    "split_ratio=0.8 #80-20 train/validation split \n",
    "length_train=int(split_ratio*len(dataset)) #number of training samples \n",
    "\n",
    "trainset=dataset[0:length_train]\n",
    "valset=dataset[length_train:]"
   ]
  },
  {
   "cell_type": "code",
   "execution_count": 5,
   "metadata": {},
   "outputs": [
    {
     "name": "stdout",
     "output_type": "stream",
     "text": [
      "(8160, 21)\n",
      "(2040, 21)\n",
      "[-1.  1.  1. -1.  1.  1.  1.  1.  1.  1. -1. -1. -1. -1. -1.  1.  1.  1.\n",
      " -1. -1.  1.]\n"
     ]
    }
   ],
   "source": [
    "print(trainset.shape)\n",
    "print(valset.shape)\n",
    "print(trainset[0])"
   ]
  },
  {
   "cell_type": "code",
   "execution_count": 6,
   "metadata": {},
   "outputs": [],
   "source": [
    "#torch,torchvision, torchvision transforms\n",
    "import torch\n",
    "import torch.nn as nn\n",
    "import torch.nn.functional as F #useful library for operations like relu \n",
    "import torch.optim as optim\n",
    "import torchvision"
   ]
  },
  {
   "cell_type": "code",
   "execution_count": 7,
   "metadata": {},
   "outputs": [],
   "source": [
    "#Declaring the network architecture \n",
    "class Net(nn.Module):\n",
    "    def __init__(self):\n",
    "        super(Net, self).__init__()  #declare all layers\n",
    "        self.linear_1=nn.Linear(20,20) #input_dimensions x output_dimensions\n",
    "        self.dropout=nn.Dropout(p=0.2)\n",
    "        self.output=nn.Linear(20,1)\n",
    "    def forward(self,x):\n",
    "        x=self.linear_1(x) #passing through linear layer (784*128)\n",
    "        x=F.relu(x) #passing through relu activation\n",
    "        x=self.dropout(x)\n",
    "        x=self.output(x)\n",
    "        return(x)"
   ]
  },
  {
   "cell_type": "code",
   "execution_count": 8,
   "metadata": {},
   "outputs": [],
   "source": [
    "net=Net()"
   ]
  },
  {
   "cell_type": "code",
   "execution_count": 9,
   "metadata": {},
   "outputs": [
    {
     "name": "stdout",
     "output_type": "stream",
     "text": [
      "cpu\n"
     ]
    }
   ],
   "source": [
    "device = torch.device('cpu')\n",
    "print(device)\n",
    "net=net.to(device)"
   ]
  },
  {
   "cell_type": "code",
   "execution_count": 10,
   "metadata": {},
   "outputs": [],
   "source": [
    "criterion=nn.BCELoss()\n",
    "optimizer = optim.Adam(net.parameters(), lr=0.001)"
   ]
  },
  {
   "cell_type": "code",
   "execution_count": 11,
   "metadata": {},
   "outputs": [],
   "source": [
    "def eval_model(model,loader,criterion):\n",
    "    \"\"\"model: instance of model class \n",
    "       loader: test dataloader\n",
    "       criterion: loss function\n",
    "       device: CPU/GPU\n",
    "    \"\"\"\n",
    "    model.eval() #needed to run the model in eval mode to freeze all the layers\n",
    "    correct=0\n",
    "    total=0\n",
    "    total_loss=0\n",
    "    with torch.no_grad():\n",
    "        total=0\n",
    "        correct=0\n",
    "        for j in range(loader.shape[0]):\n",
    "            inputs=loader[:,:-1]\n",
    "            labels=loader[:,-1]\n",
    "            inputs =torch.from_numpy(inputs).reshape(loader.shape[0],20).float()\n",
    "            labels =torch.from_numpy(labels).reshape(loader.shape[0],1).float()\n",
    "            outputs=model(inputs)\n",
    "            outputs=torch.sigmoid(outputs)\n",
    "            val_loss=criterion(outputs,labels)\n",
    "            total_loss=total_loss+val_loss\n",
    "            preds=np.where(outputs > 0.5, 1, 0)\n",
    "            preds=torch.from_numpy(preds).float()            \n",
    "            correct=correct+(preds==labels).cpu().sum().numpy() \n",
    "            total=total+len(labels)\n",
    "    Accuracy=100*(correct/total)\n",
    "    fin_loss=total_loss/(len(loader))\n",
    "    \n",
    "    return(Accuracy,fin_loss)"
   ]
  },
  {
   "cell_type": "code",
   "execution_count": 12,
   "metadata": {},
   "outputs": [
    {
     "name": "stdout",
     "output_type": "stream",
     "text": [
      "Epoch:1,Train Loss:0.700756,Training Accuracy:51.200980,Validation Loss:0.684945,Validation Accuracy:56.568627\n",
      "Epoch:2,Train Loss:0.687273,Training Accuracy:56.433824,Validation Loss:0.676593,Validation Accuracy:57.107843\n",
      "Epoch:3,Train Loss:0.677847,Training Accuracy:58.468137,Validation Loss:0.670155,Validation Accuracy:57.205882\n",
      "Epoch:4,Train Loss:0.671255,Training Accuracy:59.191176,Validation Loss:0.665660,Validation Accuracy:58.088235\n",
      "Epoch:5,Train Loss:0.666871,Training Accuracy:59.558824,Validation Loss:0.662966,Validation Accuracy:58.333333\n",
      "Epoch:6,Train Loss:0.663857,Training Accuracy:60.379902,Validation Loss:0.661022,Validation Accuracy:58.431373\n",
      "Epoch:7,Train Loss:0.661512,Training Accuracy:60.870098,Validation Loss:0.660080,Validation Accuracy:58.480392\n",
      "Epoch:8,Train Loss:0.659672,Training Accuracy:61.188725,Validation Loss:0.659180,Validation Accuracy:58.627451\n",
      "Epoch:9,Train Loss:0.658079,Training Accuracy:61.274510,Validation Loss:0.658683,Validation Accuracy:58.627451\n",
      "Epoch:10,Train Loss:0.656765,Training Accuracy:61.727941,Validation Loss:0.658314,Validation Accuracy:58.725490\n",
      "Epoch:11,Train Loss:0.655674,Training Accuracy:61.838235,Validation Loss:0.657848,Validation Accuracy:58.627451\n",
      "Epoch:12,Train Loss:0.654755,Training Accuracy:62.181373,Validation Loss:0.657461,Validation Accuracy:58.627451\n",
      "Epoch:13,Train Loss:0.653919,Training Accuracy:62.328431,Validation Loss:0.657142,Validation Accuracy:58.529412\n",
      "Epoch:14,Train Loss:0.653236,Training Accuracy:62.218137,Validation Loss:0.656701,Validation Accuracy:58.774510\n",
      "Epoch:15,Train Loss:0.652577,Training Accuracy:62.242647,Validation Loss:0.656212,Validation Accuracy:58.627451\n",
      "Epoch:16,Train Loss:0.651968,Training Accuracy:62.193627,Validation Loss:0.656005,Validation Accuracy:58.676471\n",
      "Epoch:17,Train Loss:0.651487,Training Accuracy:62.365196,Validation Loss:0.655806,Validation Accuracy:58.431373\n",
      "Epoch:18,Train Loss:0.651024,Training Accuracy:62.267157,Validation Loss:0.655677,Validation Accuracy:58.627451\n",
      "Epoch:19,Train Loss:0.650525,Training Accuracy:62.475490,Validation Loss:0.655553,Validation Accuracy:58.823529\n",
      "Epoch:20,Train Loss:0.650119,Training Accuracy:62.487745,Validation Loss:0.655285,Validation Accuracy:59.117647\n"
     ]
    }
   ],
   "source": [
    "num_epochs=20\n",
    "batch_size=16\n",
    "train_loss_list=[]\n",
    "train_acc_list=[]\n",
    "val_loss_list=[]\n",
    "val_acc_list=[]\n",
    "\n",
    "#TRAINING LOOP\n",
    "for i in np.arange(num_epochs): #outer loop \n",
    "    train_loss=0.0\n",
    "    correct=0\n",
    "    for j in range(trainset.shape[0]//batch_size): \n",
    "        \n",
    "        inputs=trainset[j*batch_size:(j+1)*batch_size,:-1]\n",
    "        labels=trainset[j*batch_size:(j+1)*batch_size,-1]\n",
    "        inputs =torch.from_numpy(inputs).reshape(batch_size,20).float()\n",
    "        labels =torch.from_numpy(labels).reshape(batch_size,1).float()\n",
    "        \n",
    "        l2_regularization=torch.tensor(0).float()\n",
    "        \n",
    "        #zero out the gradients to avoid any accumulation during backprop\n",
    "        optimizer.zero_grad()\n",
    "        #forward pass through the network\n",
    "        outputs = net(inputs) #batch_size x 10\n",
    "        outputs = torch.sigmoid(outputs)        \n",
    "        for param in net.parameters():\n",
    "            l2_regularization += torch.norm(param,2)**2\n",
    "            \n",
    "\n",
    "        loss=criterion(outputs,labels)+0.001*l2_regularization\n",
    "\n",
    "        loss.backward() #computes derivative of loss for every variable (gradients)\n",
    "        optimizer.step() #optimizer updates based on gradients \n",
    "        \n",
    "        preds=np.where(outputs > 0.5, 1, 0)\n",
    "        preds=torch.from_numpy(preds).float()\n",
    "        correct=correct+(preds==labels).cpu().sum().numpy() \n",
    "        train_loss=train_loss+loss.item()\n",
    "    \n",
    "    \n",
    "    val_accuracy,val_loss=eval_model(net,valset,criterion)\n",
    "    train_loss=train_loss/(trainset.shape[0]//batch_size) #computing the total loss for the entire training set\n",
    "    train_accuracy=100*(correct/trainset.shape[0]) #train accuracy for the dataset\n",
    "    \n",
    "    print('Epoch:%d,Train Loss:%f,Training Accuracy:%f,Validation Loss:%f,Validation Accuracy:%f'%(i+1,train_loss,train_accuracy,val_loss,val_accuracy))\n",
    "    \n",
    "    train_loss_list.append(train_loss)\n",
    "    train_acc_list.append(train_accuracy)\n",
    "    val_loss_list.append(val_loss)\n",
    "    val_acc_list.append(val_accuracy)"
   ]
  },
  {
   "cell_type": "code",
   "execution_count": 13,
   "metadata": {},
   "outputs": [
    {
     "data": {
      "image/png": "[encoded data removed]",
      "text/plain": [
       "<Figure size 432x288 with 1 Axes>"
      ]
     },
     "metadata": {
      "needs_background": "light"
     },
     "output_type": "display_data"
    }
   ],
   "source": [
    "plt.figure()\n",
    "plt.title('Accuracy Curve')\n",
    "plt.xlabel('epoch')\n",
    "plt.ylabel('accuracy rate')\n",
    "plt.plot(train_acc_list,c='r',label='training accuracy')\n",
    "plt.plot(val_acc_list,c='b',label='validation accuracy')\n",
    "plt.legend()\n",
    "plt.show()"
   ]
  },
  {
   "cell_type": "code",
   "execution_count": 14,
   "metadata": {},
   "outputs": [
    {
     "data": {
      "image/png": "[encoded data removed]",
      "text/plain": [
       "<Figure size 432x288 with 1 Axes>"
      ]
     },
     "metadata": {
      "needs_background": "light"
     },
     "output_type": "display_data"
    }
   ],
   "source": [
    "plt.title('Loss Curve')\n",
    "plt.xlabel('epoch')\n",
    "plt.ylabel('Loss')\n",
    "plt.plot(train_loss_list,c='r',label='training loss')\n",
    "plt.plot(val_loss_list,c='b',label='validation loss')\n",
    "plt.legend()\n",
    "plt.show()"
   ]
  },
  {
   "cell_type": "code",
   "execution_count": 15,
   "metadata": {},
   "outputs": [
    {
     "data": {
      "image/png": "[encoded data removed]",
      "text/plain": [
       "<Figure size 432x288 with 1 Axes>"
      ]
     },
     "metadata": {
      "needs_background": "light"
     },
     "output_type": "display_data"
    }
   ],
   "source": [
    "train_para_output_W = net.linear_1.weight.detach()\n",
    "plt.figure()\n",
    "plt.imshow(train_para_output_W, interpolation='nearest')\n",
    "plt.show()"
   ]
  },
  {
   "cell_type": "code",
   "execution_count": null,
   "metadata": {},
   "outputs": [],
   "source": []
  }
 ],
 "metadata": {
  "kernelspec": {
   "display_name": "Python 3",
   "language": "python",
   "name": "python3"
  },
  "language_info": {
   "codemirror_mode": {
    "name": "ipython",
    "version": 3
   },
   "file_extension": ".py",
   "mimetype": "text/x-python",
   "name": "python",
   "nbconvert_exporter": "python",
   "pygments_lexer": "ipython3",
   "version": "3.6.5"
  }
 },
 "nbformat": 4,
 "nbformat_minor": 4
}
