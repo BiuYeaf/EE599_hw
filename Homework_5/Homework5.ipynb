{
 "cells": [
  {
   "cell_type": "code",
   "execution_count": 1,
   "metadata": {},
   "outputs": [],
   "source": [
    "import torch\n",
    "import torch.nn as nn\n",
    "from torch.utils.data import Dataset, DataLoader\n",
    "import torch.nn.functional as F\n",
    "import os.path as osp\n",
    "import os\n",
    "import numpy as np\n",
    "import h5py"
   ]
  },
  {
   "cell_type": "code",
   "execution_count": null,
   "metadata": {},
   "outputs": [],
   "source": [
    "Data_dir = \"F:\\\\Data\\\\hw_5_train\\\\train_set.hdf5\"\n",
    "f = h5py.File(Data_dir, 'r')\n",
    "train_data = f['data'][:]\n",
    "train_label = f['label'][:]\n",
    "f.close()\n",
    "\n",
    "Data_dir = \"F:\\\\Data\\\\hw_5_train\\\\val_set.hdf5\"\n",
    "f = h5py.File(Data_dir, 'r')\n",
    "val_data = f['data'][:]\n",
    "val_label = f['label'][:]\n",
    "f.close()\n",
    "\n",
    "Data_dir = \"F:\\\\Data\\\\hw_5_train\\\\test_set.hdf5\"\n",
    "f = h5py.File(Data_dir, 'r')\n",
    "test_data = f['data'][:]\n",
    "test_label = f['label'][:]\n",
    "f.close()"
   ]
  },
  {
   "cell_type": "code",
   "execution_count": null,
   "metadata": {},
   "outputs": [],
   "source": [
    "print(train_data.shape)\n",
    "print(train_label.shape)\n",
    "print(val_data.shape)\n",
    "print(val_label.shape)\n",
    "print(test_data.shape)\n",
    "print(test_label.shape)"
   ]
  },
  {
   "cell_type": "code",
   "execution_count": 4,
   "metadata": {},
   "outputs": [],
   "source": [
    "class Dataset(Dataset):\n",
    "    def __init__(self, data, label):\n",
    "        self.num_seq = data.shape[0]\n",
    "\n",
    "\n",
    "        self.X = data\n",
    "        self.Y = label\n",
    "        \n",
    "        \n",
    "    def __len__(self):\n",
    "        return self.num_seq\n",
    "    \n",
    "    \n",
    "    def __getitem__(self, index):\n",
    "        x = self.X[index:index+1]\n",
    "        x = x.squeeze(0)    \n",
    "\n",
    "        y = self.Y[index]\n",
    "        return torch.Tensor(x), torch.Tensor(y)"
   ]
  },
  {
   "cell_type": "code",
   "execution_count": 5,
   "metadata": {},
   "outputs": [],
   "source": [
    "train_dataset = Dataset(train_data,train_label)\n",
    "val_dataset = Dataset(val_data,val_label)\n",
    "test_dataset = Dataset(test_data,test_label)\n",
    "\n",
    "batch_size=3\n",
    "train_seq_length=train_data.shape[1]\n",
    "num_feature=train_data.shape[2]\n",
    "val_seq_length=val_data.shape[1]\n",
    "test_seq_length = test_data.shape[1]\n",
    "\n",
    "train_dataloader = DataLoader(train_dataset, batch_size=batch_size)\n",
    "val_dataloader = DataLoader(val_dataset,batch_size=batch_size)\n",
    "test_dataloader = DataLoader(test_dataset,batch_size=batch_size)"
   ]
  },
  {
   "cell_type": "code",
   "execution_count": 2,
   "metadata": {},
   "outputs": [],
   "source": [
    "hidden_size = 48\n",
    "num_feature = 64\n",
    "\n",
    "class Model(nn.Module):\n",
    "    def __init__(self, input_size, hidden_size, output_size):\n",
    "        super(Model, self).__init__()\n",
    "                \n",
    "        self.input_size = input_size\n",
    "        self.hidden_size = hidden_size\n",
    "        self.output_size = output_size\n",
    "        \n",
    "        \n",
    "        self.Linear1 = nn.Linear(self.input_size,self.input_size*2)\n",
    "        self.relu = nn.ReLU()\n",
    "        self.batch = nn.BatchNorm1d(1000)\n",
    "        \n",
    "        self.rnn = nn.GRU(self.input_size*2, self.hidden_size, batch_first=True,num_layers=4,dropout=0.4)\n",
    "        \n",
    "        self.Linear2 = nn.Linear(self.hidden_size, 32)\n",
    "        self.dropout = nn.Dropout(0.4)\n",
    "        self.fc = nn.Linear(32,3)\n",
    "        \n",
    "    # create function to init state\n",
    "    def init_hidden(self, batch_size):\n",
    "        return torch.zeros(4, batch_size, self.hidden_size)\n",
    "        \n",
    "    \n",
    "    def forward(self, x):  \n",
    "        x=self.Linear1(x)\n",
    "        x=self.relu(x)\n",
    "        x=self.batch(x)\n",
    "        \n",
    "        batch_size = x.size(0)\n",
    "        \n",
    "        \n",
    "        h = self.init_hidden(batch_size).to(device)\n",
    "        \n",
    "        out, h = self.rnn(x, h)    \n",
    "        \n",
    "        out = self.Linear2(out)\n",
    "        out = self.relu(out)\n",
    "        out = self.dropout(out)\n",
    "        out = self.fc(out)\n",
    "        \n",
    "        return out\n",
    "        \n",
    "    \n",
    "model = Model(input_size=num_feature, hidden_size=hidden_size, output_size=3)"
   ]
  },
  {
   "cell_type": "code",
   "execution_count": 149,
   "metadata": {},
   "outputs": [],
   "source": [
    "hidden_size = 48\n",
    "num_feature = 64\n",
    "\n",
    "class StreamModel(nn.Module):\n",
    "    def __init__(self, input_size, hidden_size, output_size):\n",
    "        super(StreamModel, self).__init__()\n",
    "                \n",
    "        self.input_size = input_size\n",
    "        self.hidden_size = hidden_size\n",
    "        self.output_size = output_size\n",
    "        \n",
    "        \n",
    "        self.Linear1 = nn.Linear(self.input_size,self.input_size*2)\n",
    "        self.relu = nn.ReLU()\n",
    "        self.batch = nn.BatchNorm1d(train_seq_length)\n",
    "        \n",
    "        self.rnn = nn.GRU(self.input_size*2, self.hidden_size, batch_first=True,num_layers=4,dropout=0.4)\n",
    "        \n",
    "        self.Linear2 = nn.Linear(self.hidden_size, 32)\n",
    "        self.dropout = nn.Dropout(0.4)\n",
    "        self.fc = nn.Linear(32,3)\n",
    "        \n",
    "    # create function to init state\n",
    "    def init_hidden(self, batch_size):\n",
    "        return torch.zeros(4, batch_size, self.hidden_size)\n",
    "        \n",
    "    \n",
    "    def forward(self, x):  \n",
    "        x=self.Linear1(x)\n",
    "        x=self.relu(x)\n",
    "        \n",
    "        batch_size = x.size(0)\n",
    "        \n",
    "        \n",
    "        h = self.init_hidden(batch_size).to(device)\n",
    "        \n",
    "        out, h = self.rnn(x, h)    \n",
    "        \n",
    "        out = self.Linear2(out)\n",
    "        out = self.relu(out)\n",
    "        out = self.dropout(out)\n",
    "        out = self.fc(out)\n",
    "        \n",
    "        return out\n",
    "        \n",
    "    \n",
    "streammodel = StreamModel(input_size=num_feature, hidden_size=hidden_size, output_size=3)"
   ]
  },
  {
   "cell_type": "code",
   "execution_count": 155,
   "metadata": {},
   "outputs": [
    {
     "name": "stdout",
     "output_type": "stream",
     "text": [
      "cuda:0\n",
      "----------------------------------------------------------------------------------\n",
      "      Layer (type)                    Input Shape         Param #     Tr. Param #\n",
      "==================================================================================\n",
      "          Linear-1                  [3, 1000, 64]           8,320           8,320\n",
      "            ReLU-2                 [3, 1000, 128]               0               0\n",
      "     BatchNorm1d-3                 [3, 1000, 128]           2,000           2,000\n",
      "             GRU-4     [3, 1000, 128], [4, 3, 48]          67,968          67,968\n",
      "          Linear-5                  [3, 1000, 48]           1,568           1,568\n",
      "         Dropout-6                  [3, 1000, 32]               0               0\n",
      "          Linear-7                  [3, 1000, 32]              99              99\n",
      "==================================================================================\n",
      "Total params: 79,955\n",
      "Trainable params: 79,955\n",
      "Non-trainable params: 0\n",
      "----------------------------------------------------------------------------------\n"
     ]
    },
    {
     "data": {
      "text/plain": [
       "'----------------------------------------------------------------------------------\\n      Layer (type)                    Input Shape         Param #     Tr. Param #\\n==================================================================================\\n          Linear-1                  [3, 1000, 64]           8,320           8,320\\n            ReLU-2                 [3, 1000, 128]               0               0\\n     BatchNorm1d-3                 [3, 1000, 128]           2,000           2,000\\n             GRU-4     [3, 1000, 128], [4, 3, 48]          67,968          67,968\\n          Linear-5                  [3, 1000, 48]           1,568           1,568\\n         Dropout-6                  [3, 1000, 32]               0               0\\n          Linear-7                  [3, 1000, 32]              99              99\\n==================================================================================\\nTotal params: 79,955\\nTrainable params: 79,955\\nNon-trainable params: 0\\n----------------------------------------------------------------------------------'"
      ]
     },
     "execution_count": 155,
     "metadata": {},
     "output_type": "execute_result"
    }
   ],
   "source": [
    "device = torch.device(\"cuda:0\" if torch.cuda.is_available() else \"cpu\")\n",
    "#device = 'cpu'\n",
    "print(device)\n",
    "model.to(device)\n",
    "\n",
    "from pytorch_model_summary import summary\n",
    "summary(\n",
    "    model,\n",
    "    torch.zeros(batch_size, train_seq_length, num_feature).to(device),\n",
    "    show_input=True,\n",
    "    print_summary=True\n",
    ")"
   ]
  },
  {
   "cell_type": "code",
   "execution_count": 17,
   "metadata": {
    "scrolled": true
   },
   "outputs": [
    {
     "name": "stderr",
     "output_type": "stream",
     "text": [
      "\r",
      "  0%|          | 0/422 [00:00<?, ?it/s]"
     ]
    },
    {
     "name": "stdout",
     "output_type": "stream",
     "text": [
      "[0.001]\n"
     ]
    },
    {
     "name": "stderr",
     "output_type": "stream",
     "text": [
      "100%|██████████| 422/422 [02:06<00:00,  3.35it/s]\n",
      "  2%|▏         | 1/53 [00:00<00:06,  7.92it/s]"
     ]
    },
    {
     "name": "stdout",
     "output_type": "stream",
     "text": [
      "Epoch: 01,  TrainLoss: 0.9575  TrainAcc: 0.5129\n"
     ]
    },
    {
     "name": "stderr",
     "output_type": "stream",
     "text": [
      "100%|██████████| 53/53 [00:06<00:00,  8.03it/s]\n",
      "  0%|          | 1/422 [00:00<01:12,  5.77it/s]"
     ]
    },
    {
     "name": "stdout",
     "output_type": "stream",
     "text": [
      "Epoch: 01,  ValLoss: 1.0233   ValAcc: 0.4730\n",
      "[0.001]\n"
     ]
    },
    {
     "name": "stderr",
     "output_type": "stream",
     "text": [
      "100%|██████████| 422/422 [02:07<00:00,  3.31it/s]\n",
      "  2%|▏         | 1/53 [00:00<00:06,  7.77it/s]"
     ]
    },
    {
     "name": "stdout",
     "output_type": "stream",
     "text": [
      "Epoch: 02,  TrainLoss: 0.8044  TrainAcc: 0.5914\n"
     ]
    },
    {
     "name": "stderr",
     "output_type": "stream",
     "text": [
      "100%|██████████| 53/53 [00:06<00:00,  7.97it/s]\n",
      "  0%|          | 1/422 [00:00<01:10,  5.93it/s]"
     ]
    },
    {
     "name": "stdout",
     "output_type": "stream",
     "text": [
      "Epoch: 02,  ValLoss: 1.2147   ValAcc: 0.5203\n",
      "[0.001]\n"
     ]
    },
    {
     "name": "stderr",
     "output_type": "stream",
     "text": [
      "100%|██████████| 422/422 [02:04<00:00,  3.39it/s]\n",
      "  2%|▏         | 1/53 [00:00<00:05,  9.06it/s]"
     ]
    },
    {
     "name": "stdout",
     "output_type": "stream",
     "text": [
      "Epoch: 03,  TrainLoss: 0.6113  TrainAcc: 0.7352\n"
     ]
    },
    {
     "name": "stderr",
     "output_type": "stream",
     "text": [
      "100%|██████████| 53/53 [00:06<00:00,  8.37it/s]\n",
      "  0%|          | 0/422 [00:00<?, ?it/s]"
     ]
    },
    {
     "name": "stdout",
     "output_type": "stream",
     "text": [
      "Epoch: 03,  ValLoss: 0.9855   ValAcc: 0.6585\n",
      "[0.001]\n"
     ]
    },
    {
     "name": "stderr",
     "output_type": "stream",
     "text": [
      "100%|██████████| 422/422 [02:03<00:00,  3.42it/s]\n",
      "  2%|▏         | 1/53 [00:00<00:06,  8.57it/s]"
     ]
    },
    {
     "name": "stdout",
     "output_type": "stream",
     "text": [
      "Epoch: 04,  TrainLoss: 0.4464  TrainAcc: 0.8244\n"
     ]
    },
    {
     "name": "stderr",
     "output_type": "stream",
     "text": [
      "100%|██████████| 53/53 [00:06<00:00,  8.24it/s]\n",
      "  0%|          | 1/422 [00:00<01:09,  6.10it/s]"
     ]
    },
    {
     "name": "stdout",
     "output_type": "stream",
     "text": [
      "Epoch: 04,  ValLoss: 1.0039   ValAcc: 0.6782\n",
      "[0.001]\n"
     ]
    },
    {
     "name": "stderr",
     "output_type": "stream",
     "text": [
      "100%|██████████| 422/422 [02:06<00:00,  3.34it/s]\n",
      "  2%|▏         | 1/53 [00:00<00:06,  7.60it/s]"
     ]
    },
    {
     "name": "stdout",
     "output_type": "stream",
     "text": [
      "Epoch: 05,  TrainLoss: 0.3521  TrainAcc: 0.8676\n"
     ]
    },
    {
     "name": "stderr",
     "output_type": "stream",
     "text": [
      "100%|██████████| 53/53 [00:06<00:00,  8.20it/s]\n",
      "  0%|          | 1/422 [00:00<01:08,  6.15it/s]"
     ]
    },
    {
     "name": "stdout",
     "output_type": "stream",
     "text": [
      "Epoch: 05,  ValLoss: 0.9551   ValAcc: 0.6827\n",
      "[0.001]\n"
     ]
    },
    {
     "name": "stderr",
     "output_type": "stream",
     "text": [
      "100%|██████████| 422/422 [02:00<00:00,  3.51it/s]\n",
      "  2%|▏         | 1/53 [00:00<00:06,  8.22it/s]"
     ]
    },
    {
     "name": "stdout",
     "output_type": "stream",
     "text": [
      "Epoch: 06,  TrainLoss: 0.2964  TrainAcc: 0.8903\n"
     ]
    },
    {
     "name": "stderr",
     "output_type": "stream",
     "text": [
      "100%|██████████| 53/53 [00:07<00:00,  7.37it/s]\n",
      "  0%|          | 0/422 [00:00<?, ?it/s]"
     ]
    },
    {
     "name": "stdout",
     "output_type": "stream",
     "text": [
      "Epoch: 06,  ValLoss: 1.1955   ValAcc: 0.6610\n",
      "[0.001]\n"
     ]
    },
    {
     "name": "stderr",
     "output_type": "stream",
     "text": [
      "100%|██████████| 422/422 [01:41<00:00,  4.18it/s]\n",
      "  2%|▏         | 1/53 [00:00<00:06,  7.65it/s]"
     ]
    },
    {
     "name": "stdout",
     "output_type": "stream",
     "text": [
      "Epoch: 07,  TrainLoss: 0.2615  TrainAcc: 0.9035\n"
     ]
    },
    {
     "name": "stderr",
     "output_type": "stream",
     "text": [
      "100%|██████████| 53/53 [00:06<00:00,  8.06it/s]\n",
      "  0%|          | 0/422 [00:00<?, ?it/s]"
     ]
    },
    {
     "name": "stdout",
     "output_type": "stream",
     "text": [
      "Epoch: 07,  ValLoss: 1.1370   ValAcc: 0.6755\n",
      "[0.001]\n"
     ]
    },
    {
     "name": "stderr",
     "output_type": "stream",
     "text": [
      "100%|██████████| 422/422 [02:07<00:00,  3.31it/s]\n",
      "  2%|▏         | 1/53 [00:00<00:07,  7.43it/s]"
     ]
    },
    {
     "name": "stdout",
     "output_type": "stream",
     "text": [
      "Epoch: 08,  TrainLoss: 0.2640  TrainAcc: 0.9028\n"
     ]
    },
    {
     "name": "stderr",
     "output_type": "stream",
     "text": [
      "100%|██████████| 53/53 [00:06<00:00,  7.98it/s]\n",
      "  0%|          | 0/422 [00:00<?, ?it/s]"
     ]
    },
    {
     "name": "stdout",
     "output_type": "stream",
     "text": [
      "Epoch: 08,  ValLoss: 1.2104   ValAcc: 0.6632\n",
      "[0.001]\n"
     ]
    },
    {
     "name": "stderr",
     "output_type": "stream",
     "text": [
      "100%|██████████| 422/422 [02:10<00:00,  3.24it/s]\n",
      "  2%|▏         | 1/53 [00:00<00:06,  7.77it/s]"
     ]
    },
    {
     "name": "stdout",
     "output_type": "stream",
     "text": [
      "Epoch: 09,  TrainLoss: 0.2298  TrainAcc: 0.9155\n"
     ]
    },
    {
     "name": "stderr",
     "output_type": "stream",
     "text": [
      "100%|██████████| 53/53 [00:06<00:00,  8.14it/s]\n",
      "  0%|          | 1/422 [00:00<01:17,  5.45it/s]"
     ]
    },
    {
     "name": "stdout",
     "output_type": "stream",
     "text": [
      "Epoch: 09,  ValLoss: 1.0351   ValAcc: 0.6776\n",
      "[0.001]\n"
     ]
    },
    {
     "name": "stderr",
     "output_type": "stream",
     "text": [
      "100%|██████████| 422/422 [02:10<00:00,  3.24it/s]\n",
      "  2%|▏         | 1/53 [00:00<00:06,  8.64it/s]"
     ]
    },
    {
     "name": "stdout",
     "output_type": "stream",
     "text": [
      "Epoch: 10,  TrainLoss: 0.2191  TrainAcc: 0.9196\n"
     ]
    },
    {
     "name": "stderr",
     "output_type": "stream",
     "text": [
      "100%|██████████| 53/53 [00:06<00:00,  7.86it/s]\n",
      "  0%|          | 1/422 [00:00<01:11,  5.90it/s]"
     ]
    },
    {
     "name": "stdout",
     "output_type": "stream",
     "text": [
      "Epoch: 10,  ValLoss: 1.2817   ValAcc: 0.6869\n",
      "[0.001]\n"
     ]
    },
    {
     "name": "stderr",
     "output_type": "stream",
     "text": [
      "100%|██████████| 422/422 [02:08<00:00,  3.27it/s]\n",
      "  2%|▏         | 1/53 [00:00<00:06,  8.09it/s]"
     ]
    },
    {
     "name": "stdout",
     "output_type": "stream",
     "text": [
      "Epoch: 11,  TrainLoss: 0.2114  TrainAcc: 0.9223\n"
     ]
    },
    {
     "name": "stderr",
     "output_type": "stream",
     "text": [
      "100%|██████████| 53/53 [00:06<00:00,  8.37it/s]\n",
      "  0%|          | 1/422 [00:00<01:09,  6.08it/s]"
     ]
    },
    {
     "name": "stdout",
     "output_type": "stream",
     "text": [
      "Epoch: 11,  ValLoss: 1.1540   ValAcc: 0.6538\n",
      "[0.001]\n"
     ]
    },
    {
     "name": "stderr",
     "output_type": "stream",
     "text": [
      "100%|██████████| 422/422 [02:06<00:00,  3.34it/s]\n",
      "  2%|▏         | 1/53 [00:00<00:06,  8.32it/s]"
     ]
    },
    {
     "name": "stdout",
     "output_type": "stream",
     "text": [
      "Epoch: 12,  TrainLoss: 0.2066  TrainAcc: 0.9243\n"
     ]
    },
    {
     "name": "stderr",
     "output_type": "stream",
     "text": [
      "100%|██████████| 53/53 [00:06<00:00,  8.15it/s]\n",
      "  0%|          | 1/422 [00:00<01:06,  6.35it/s]"
     ]
    },
    {
     "name": "stdout",
     "output_type": "stream",
     "text": [
      "Epoch: 12,  ValLoss: 1.1933   ValAcc: 0.7081\n",
      "[0.001]\n"
     ]
    },
    {
     "name": "stderr",
     "output_type": "stream",
     "text": [
      "100%|██████████| 422/422 [02:08<00:00,  3.28it/s]\n",
      "  2%|▏         | 1/53 [00:00<00:07,  7.43it/s]"
     ]
    },
    {
     "name": "stdout",
     "output_type": "stream",
     "text": [
      "Epoch: 13,  TrainLoss: 0.1888  TrainAcc: 0.9305\n"
     ]
    },
    {
     "name": "stderr",
     "output_type": "stream",
     "text": [
      "100%|██████████| 53/53 [00:06<00:00,  8.09it/s]\n",
      "  0%|          | 1/422 [00:00<01:07,  6.28it/s]"
     ]
    },
    {
     "name": "stdout",
     "output_type": "stream",
     "text": [
      "Epoch: 13,  ValLoss: 1.2671   ValAcc: 0.6658\n",
      "[0.001]\n"
     ]
    },
    {
     "name": "stderr",
     "output_type": "stream",
     "text": [
      "100%|██████████| 422/422 [02:06<00:00,  3.34it/s]\n",
      "  2%|▏         | 1/53 [00:00<00:06,  8.36it/s]"
     ]
    },
    {
     "name": "stdout",
     "output_type": "stream",
     "text": [
      "Epoch: 14,  TrainLoss: 0.1874  TrainAcc: 0.9306\n"
     ]
    },
    {
     "name": "stderr",
     "output_type": "stream",
     "text": [
      "100%|██████████| 53/53 [00:06<00:00,  8.29it/s]\n",
      "  0%|          | 1/422 [00:00<01:10,  5.97it/s]"
     ]
    },
    {
     "name": "stdout",
     "output_type": "stream",
     "text": [
      "Epoch: 14,  ValLoss: 1.3102   ValAcc: 0.7034\n",
      "[0.001]\n"
     ]
    },
    {
     "name": "stderr",
     "output_type": "stream",
     "text": [
      "100%|██████████| 422/422 [02:03<00:00,  3.41it/s]\n",
      "  2%|▏         | 1/53 [00:00<00:06,  8.22it/s]"
     ]
    },
    {
     "name": "stdout",
     "output_type": "stream",
     "text": [
      "Epoch: 15,  TrainLoss: 0.1854  TrainAcc: 0.9318\n"
     ]
    },
    {
     "name": "stderr",
     "output_type": "stream",
     "text": [
      "100%|██████████| 53/53 [00:06<00:00,  8.17it/s]\n",
      "  0%|          | 1/422 [00:00<01:09,  6.09it/s]"
     ]
    },
    {
     "name": "stdout",
     "output_type": "stream",
     "text": [
      "Epoch: 15,  ValLoss: 1.4016   ValAcc: 0.6532\n",
      "[0.001]\n"
     ]
    },
    {
     "name": "stderr",
     "output_type": "stream",
     "text": [
      "100%|██████████| 422/422 [02:04<00:00,  3.38it/s]\n",
      "  2%|▏         | 1/53 [00:00<00:06,  8.22it/s]"
     ]
    },
    {
     "name": "stdout",
     "output_type": "stream",
     "text": [
      "Epoch: 16,  TrainLoss: 0.2639  TrainAcc: 0.9048\n"
     ]
    },
    {
     "name": "stderr",
     "output_type": "stream",
     "text": [
      "100%|██████████| 53/53 [00:06<00:00,  8.33it/s]\n",
      "  0%|          | 1/422 [00:00<01:09,  6.04it/s]"
     ]
    },
    {
     "name": "stdout",
     "output_type": "stream",
     "text": [
      "Epoch: 16,  ValLoss: 1.4563   ValAcc: 0.6272\n",
      "[0.001]\n"
     ]
    },
    {
     "name": "stderr",
     "output_type": "stream",
     "text": [
      "100%|██████████| 422/422 [02:05<00:00,  3.36it/s]\n",
      "  2%|▏         | 1/53 [00:00<00:06,  8.36it/s]"
     ]
    },
    {
     "name": "stdout",
     "output_type": "stream",
     "text": [
      "Epoch: 17,  TrainLoss: 0.1880  TrainAcc: 0.9311\n"
     ]
    },
    {
     "name": "stderr",
     "output_type": "stream",
     "text": [
      "100%|██████████| 53/53 [00:06<00:00,  7.89it/s]\n",
      "  0%|          | 0/422 [00:00<?, ?it/s]"
     ]
    },
    {
     "name": "stdout",
     "output_type": "stream",
     "text": [
      "Epoch: 17,  ValLoss: 1.5728   ValAcc: 0.6327\n",
      "[0.001]\n"
     ]
    },
    {
     "name": "stderr",
     "output_type": "stream",
     "text": [
      "100%|██████████| 422/422 [02:00<00:00,  3.50it/s]\n",
      "  2%|▏         | 1/53 [00:00<00:06,  8.57it/s]"
     ]
    },
    {
     "name": "stdout",
     "output_type": "stream",
     "text": [
      "Epoch: 18,  TrainLoss: 0.1741  TrainAcc: 0.9359\n"
     ]
    },
    {
     "name": "stderr",
     "output_type": "stream",
     "text": [
      "100%|██████████| 53/53 [00:06<00:00,  8.03it/s]\n",
      "  0%|          | 1/422 [00:00<01:10,  6.00it/s]"
     ]
    },
    {
     "name": "stdout",
     "output_type": "stream",
     "text": [
      "Epoch: 18,  ValLoss: 1.7234   ValAcc: 0.6358\n",
      "[0.001]\n"
     ]
    },
    {
     "name": "stderr",
     "output_type": "stream",
     "text": [
      "100%|██████████| 422/422 [02:01<00:00,  3.48it/s]\n",
      "  2%|▏         | 1/53 [00:00<00:06,  7.71it/s]"
     ]
    },
    {
     "name": "stdout",
     "output_type": "stream",
     "text": [
      "Epoch: 19,  TrainLoss: 0.1594  TrainAcc: 0.9410\n"
     ]
    },
    {
     "name": "stderr",
     "output_type": "stream",
     "text": [
      "100%|██████████| 53/53 [00:07<00:00,  6.94it/s]\n",
      "  0%|          | 1/422 [00:00<01:08,  6.11it/s]"
     ]
    },
    {
     "name": "stdout",
     "output_type": "stream",
     "text": [
      "Epoch: 19,  ValLoss: 1.4202   ValAcc: 0.6687\n",
      "[0.001]\n"
     ]
    },
    {
     "name": "stderr",
     "output_type": "stream",
     "text": [
      "100%|██████████| 422/422 [02:03<00:00,  3.42it/s]\n",
      "  2%|▏         | 1/53 [00:00<00:07,  7.27it/s]"
     ]
    },
    {
     "name": "stdout",
     "output_type": "stream",
     "text": [
      "Epoch: 20,  TrainLoss: 0.1519  TrainAcc: 0.9441\n"
     ]
    },
    {
     "name": "stderr",
     "output_type": "stream",
     "text": [
      "100%|██████████| 53/53 [00:06<00:00,  8.19it/s]\n",
      "  0%|          | 1/422 [00:00<01:07,  6.23it/s]"
     ]
    },
    {
     "name": "stdout",
     "output_type": "stream",
     "text": [
      "Epoch: 20,  ValLoss: 1.7687   ValAcc: 0.6444\n",
      "[0.0009045084971874737]\n"
     ]
    },
    {
     "name": "stderr",
     "output_type": "stream",
     "text": [
      " 67%|██████▋   | 282/422 [01:18<00:39,  3.58it/s]\n"
     ]
    },
    {
     "ename": "KeyboardInterrupt",
     "evalue": "",
     "output_type": "error",
     "traceback": [
      "\u001b[1;31m---------------------------------------------------------------------------\u001b[0m",
      "\u001b[1;31mKeyboardInterrupt\u001b[0m                         Traceback (most recent call last)",
      "\u001b[1;32m<ipython-input-17-9d2f632a1251>\u001b[0m in \u001b[0;36m<module>\u001b[1;34m\u001b[0m\n\u001b[0;32m     38\u001b[0m \u001b[1;33m\u001b[0m\u001b[0m\n\u001b[0;32m     39\u001b[0m \u001b[1;33m\u001b[0m\u001b[0m\n\u001b[1;32m---> 40\u001b[1;33m         \u001b[0mx\u001b[0m \u001b[1;33m=\u001b[0m \u001b[0mx\u001b[0m\u001b[1;33m.\u001b[0m\u001b[0mto\u001b[0m\u001b[1;33m(\u001b[0m\u001b[0mdevice\u001b[0m\u001b[1;33m)\u001b[0m\u001b[1;33m\u001b[0m\u001b[0m\n\u001b[0m\u001b[0;32m     41\u001b[0m         \u001b[0my\u001b[0m \u001b[1;33m=\u001b[0m \u001b[0my\u001b[0m\u001b[1;33m.\u001b[0m\u001b[0mto\u001b[0m\u001b[1;33m(\u001b[0m\u001b[0mtorch\u001b[0m\u001b[1;33m.\u001b[0m\u001b[0mlong\u001b[0m\u001b[1;33m)\u001b[0m\u001b[1;33m.\u001b[0m\u001b[0mto\u001b[0m\u001b[1;33m(\u001b[0m\u001b[0mdevice\u001b[0m\u001b[1;33m)\u001b[0m\u001b[1;33m\u001b[0m\u001b[0m\n\u001b[0;32m     42\u001b[0m \u001b[1;33m\u001b[0m\u001b[0m\n",
      "\u001b[1;31mKeyboardInterrupt\u001b[0m: "
     ]
    }
   ],
   "source": [
    "from tqdm import tqdm\n",
    "import copy\n",
    "from datetime import datetime\n",
    "from torch.utils.tensorboard import SummaryWriter\n",
    "import os.path as osp\n",
    "\n",
    "\n",
    "ts = datetime.now().strftime('%Y%m%d_%H%M%S')\n",
    "\n",
    "loss_func = nn.CrossEntropyLoss()\n",
    "learning_rate = 0.001\n",
    "optimizer = torch.optim.Adam(model.parameters(), lr=learning_rate, betas=(0.9, 0.999),\n",
    "                               eps=1e-08, weight_decay=1e-3)\n",
    "\n",
    "scheduler = torch.optim.lr_scheduler.CosineAnnealingLR(optimizer, 5)\n",
    "\n",
    "\n",
    "for m in model.modules():\n",
    "    if isinstance(m, (nn.Conv2d, nn.Linear)):\n",
    "        nn.init.orthogonal_(m.weight)\n",
    "\n",
    "best_model_wts = copy.deepcopy(model.state_dict())\n",
    "best_acc = 0.0\n",
    "\n",
    "num_epochs = 30\n",
    "\n",
    "for epoch in range(num_epochs):\n",
    "    train_loss = 0\n",
    "    train_accuracy = 0.0\n",
    "    val_loss =0\n",
    "    val_accuracy = 0.0\n",
    "    \n",
    "    if(epoch>19):\n",
    "            scheduler.step()\n",
    "    print(scheduler.get_last_lr())\n",
    "    model.train()\n",
    "    for x, y in tqdm(train_dataloader):\n",
    "        \n",
    "        \n",
    "        x = x.to(device)\n",
    "        y = y.to(torch.long).to(device)\n",
    "        \n",
    "\n",
    "        yhat = model(x)\n",
    "        y=y.reshape(-1,1000)\n",
    "        \n",
    "        softmax=nn.Softmax(dim=2)\n",
    "        pred = softmax(yhat).argmax(dim=2)\n",
    "        train_accuracy+=(pred==y).sum()\n",
    "        \n",
    "        yhat = yhat.permute(0,2,1)\n",
    "        \n",
    "        loss = loss_func(yhat,y)\n",
    "\n",
    "        model.zero_grad()\n",
    "        loss.backward()\n",
    "        optimizer.step()\n",
    "        train_loss += loss\n",
    "    \n",
    "    train_loss = train_loss / (len(train_dataloader.dataset)//batch_size)\n",
    "    train_accuracy = train_accuracy / (len(train_dataloader.dataset)*train_seq_length)\n",
    "    if not (epoch % 1):\n",
    "        print(f'Epoch: {epoch+1:02d},  ' +\n",
    "              f'TrainLoss: {train_loss :.4f}  '\n",
    "              f'TrainAcc: {train_accuracy :.4f}')\n",
    "    \n",
    "    \n",
    "    writer = SummaryWriter(f'C:\\\\Users\\\\msi\\\\JupyterProject\\\\EE599Homework\\\\Hw5\\\\tensorboard\\\\{ts}')\n",
    "    writer.add_scalar('Loss/train',\n",
    "                        train_loss,\n",
    "                        epoch+1)\n",
    "\n",
    "    writer.add_scalar('Accuracy/train',\n",
    "                        train_accuracy,\n",
    "                        epoch+1)\n",
    "    writer.close()\n",
    "    model.eval()\n",
    "    for x, y in tqdm(val_dataloader):\n",
    "        \n",
    "        x = x.to(device)\n",
    "        y = y.to(torch.long).to(device)\n",
    "        \n",
    "        with torch.no_grad():\n",
    "            yhat = model(x)\n",
    "        yhat = model(x)    \n",
    "        y=y.reshape(-1,1000)\n",
    "        \n",
    "        softmax=nn.Softmax(dim=2)\n",
    "        pred = softmax(yhat).argmax(dim=2)\n",
    "        val_accuracy+=(pred==y).sum()\n",
    "        \n",
    "        yhat = yhat.permute(0,2,1)\n",
    "        \n",
    "        loss = loss_func(yhat,y)\n",
    "\n",
    "        val_loss += loss\n",
    "        \n",
    "        \n",
    "    val_loss = val_loss / (len(val_dataloader.dataset)//batch_size)\n",
    "    val_accuracy = val_accuracy / (len(val_dataloader.dataset)*val_seq_length)\n",
    "    if not (epoch % 1):\n",
    "        print(f'Epoch: {epoch+1:02d},  ' +\n",
    "              f'ValLoss: {val_loss:.4f}   '\n",
    "              f'ValAcc: {val_accuracy:.4f}')\n",
    "\n",
    "    writer = SummaryWriter(f'C:\\\\Users\\\\msi\\\\JupyterProject\\\\EE599Homework\\\\Hw5\\\\tensorboard\\\\{ts}')\n",
    "    writer.add_scalar('Loss/val',\n",
    "                        val_loss,\n",
    "                        epoch+1)\n",
    "\n",
    "    writer.add_scalar('Accuracy/val',\n",
    "                        val_accuracy,\n",
    "                        epoch+1)\n",
    "    writer.close()\n",
    "    \n",
    "    if val_accuracy > best_acc:\n",
    "                best_acc = val_accuracy\n",
    "                best_model_wts = copy.deepcopy(model.state_dict())\n",
    "\n",
    "torch.save({\n",
    "            'model': best_model_wts,\n",
    "            }, 'MyNet.pth')\n",
    "print('Model saved and the best accuracy is : {:.4f}'.format(best_acc))            \n",
    "\n",
    "\n",
    "print('Finished Training')"
   ]
  },
  {
   "cell_type": "code",
   "execution_count": 99,
   "metadata": {},
   "outputs": [
    {
     "data": {
      "text/plain": [
       "<All keys matched successfully>"
      ]
     },
     "execution_count": 99,
     "metadata": {},
     "output_type": "execute_result"
    }
   ],
   "source": [
    "model.load_state_dict(torch.load('C://Users//msi//JupyterProject//EE599Homework//Hw5//48features.pth')['model'])\n",
    "streammodel.load_state_dict(torch.load('C://Users//msi//JupyterProject//EE599Homework//Hw5//48features.pth')['model'])"
   ]
  },
  {
   "cell_type": "code",
   "execution_count": 73,
   "metadata": {},
   "outputs": [
    {
     "name": "stderr",
     "output_type": "stream",
     "text": [
      "\r",
      "  0%|          | 0/528 [00:00<?, ?it/s]"
     ]
    },
    {
     "name": "stdout",
     "output_type": "stream",
     "text": [
      "cuda:0\n"
     ]
    },
    {
     "name": "stderr",
     "output_type": "stream",
     "text": [
      "  8%|▊         | 42/528 [00:04<00:49,  9.76it/s]\n"
     ]
    },
    {
     "ename": "KeyboardInterrupt",
     "evalue": "",
     "output_type": "error",
     "traceback": [
      "\u001b[1;31m---------------------------------------------------------------------------\u001b[0m",
      "\u001b[1;31mKeyboardInterrupt\u001b[0m                         Traceback (most recent call last)",
      "\u001b[1;32m<ipython-input-73-8eecd5a2ce77>\u001b[0m in \u001b[0;36m<module>\u001b[1;34m\u001b[0m\n\u001b[0;32m     17\u001b[0m \u001b[1;33m\u001b[0m\u001b[0m\n\u001b[0;32m     18\u001b[0m     \u001b[1;32mwith\u001b[0m \u001b[0mtorch\u001b[0m\u001b[1;33m.\u001b[0m\u001b[0mno_grad\u001b[0m\u001b[1;33m(\u001b[0m\u001b[1;33m)\u001b[0m\u001b[1;33m:\u001b[0m\u001b[1;33m\u001b[0m\u001b[0m\n\u001b[1;32m---> 19\u001b[1;33m         \u001b[0myhat\u001b[0m \u001b[1;33m=\u001b[0m \u001b[0mmodel\u001b[0m\u001b[1;33m(\u001b[0m\u001b[0mx\u001b[0m\u001b[1;33m)\u001b[0m\u001b[1;33m\u001b[0m\u001b[0m\n\u001b[0m\u001b[0;32m     20\u001b[0m     \u001b[0myhat\u001b[0m \u001b[1;33m=\u001b[0m \u001b[0mmodel\u001b[0m\u001b[1;33m(\u001b[0m\u001b[0mx\u001b[0m\u001b[1;33m)\u001b[0m\u001b[1;33m\u001b[0m\u001b[0m\n\u001b[0;32m     21\u001b[0m     \u001b[0my\u001b[0m\u001b[1;33m=\u001b[0m\u001b[0my\u001b[0m\u001b[1;33m.\u001b[0m\u001b[0mreshape\u001b[0m\u001b[1;33m(\u001b[0m\u001b[1;33m-\u001b[0m\u001b[1;36m1\u001b[0m\u001b[1;33m,\u001b[0m\u001b[1;36m1000\u001b[0m\u001b[1;33m)\u001b[0m\u001b[1;33m\u001b[0m\u001b[0m\n",
      "\u001b[1;32mE:\\Anaconda3\\lib\\site-packages\\torch\\nn\\modules\\module.py\u001b[0m in \u001b[0;36m_call_impl\u001b[1;34m(self, *input, **kwargs)\u001b[0m\n\u001b[0;32m    720\u001b[0m             \u001b[0mresult\u001b[0m \u001b[1;33m=\u001b[0m \u001b[0mself\u001b[0m\u001b[1;33m.\u001b[0m\u001b[0m_slow_forward\u001b[0m\u001b[1;33m(\u001b[0m\u001b[1;33m*\u001b[0m\u001b[0minput\u001b[0m\u001b[1;33m,\u001b[0m \u001b[1;33m**\u001b[0m\u001b[0mkwargs\u001b[0m\u001b[1;33m)\u001b[0m\u001b[1;33m\u001b[0m\u001b[0m\n\u001b[0;32m    721\u001b[0m         \u001b[1;32melse\u001b[0m\u001b[1;33m:\u001b[0m\u001b[1;33m\u001b[0m\u001b[0m\n\u001b[1;32m--> 722\u001b[1;33m             \u001b[0mresult\u001b[0m \u001b[1;33m=\u001b[0m \u001b[0mself\u001b[0m\u001b[1;33m.\u001b[0m\u001b[0mforward\u001b[0m\u001b[1;33m(\u001b[0m\u001b[1;33m*\u001b[0m\u001b[0minput\u001b[0m\u001b[1;33m,\u001b[0m \u001b[1;33m**\u001b[0m\u001b[0mkwargs\u001b[0m\u001b[1;33m)\u001b[0m\u001b[1;33m\u001b[0m\u001b[0m\n\u001b[0m\u001b[0;32m    723\u001b[0m         for hook in itertools.chain(\n\u001b[0;32m    724\u001b[0m                 \u001b[0m_global_forward_hooks\u001b[0m\u001b[1;33m.\u001b[0m\u001b[0mvalues\u001b[0m\u001b[1;33m(\u001b[0m\u001b[1;33m)\u001b[0m\u001b[1;33m,\u001b[0m\u001b[1;33m\u001b[0m\u001b[0m\n",
      "\u001b[1;32m<ipython-input-71-b807f433e6d6>\u001b[0m in \u001b[0;36mforward\u001b[1;34m(self, x)\u001b[0m\n\u001b[0;32m     36\u001b[0m         \u001b[0mh\u001b[0m \u001b[1;33m=\u001b[0m \u001b[0mself\u001b[0m\u001b[1;33m.\u001b[0m\u001b[0minit_hidden\u001b[0m\u001b[1;33m(\u001b[0m\u001b[0mbatch_size\u001b[0m\u001b[1;33m)\u001b[0m\u001b[1;33m.\u001b[0m\u001b[0mto\u001b[0m\u001b[1;33m(\u001b[0m\u001b[0mdevice\u001b[0m\u001b[1;33m)\u001b[0m\u001b[1;33m\u001b[0m\u001b[0m\n\u001b[0;32m     37\u001b[0m \u001b[1;33m\u001b[0m\u001b[0m\n\u001b[1;32m---> 38\u001b[1;33m         \u001b[0mout\u001b[0m\u001b[1;33m,\u001b[0m \u001b[0mh\u001b[0m \u001b[1;33m=\u001b[0m \u001b[0mself\u001b[0m\u001b[1;33m.\u001b[0m\u001b[0mrnn\u001b[0m\u001b[1;33m(\u001b[0m\u001b[0mx\u001b[0m\u001b[1;33m,\u001b[0m \u001b[0mh\u001b[0m\u001b[1;33m)\u001b[0m\u001b[1;33m\u001b[0m\u001b[0m\n\u001b[0m\u001b[0;32m     39\u001b[0m \u001b[1;33m\u001b[0m\u001b[0m\n\u001b[0;32m     40\u001b[0m         \u001b[0mout\u001b[0m \u001b[1;33m=\u001b[0m \u001b[0mself\u001b[0m\u001b[1;33m.\u001b[0m\u001b[0mLinear2\u001b[0m\u001b[1;33m(\u001b[0m\u001b[0mout\u001b[0m\u001b[1;33m)\u001b[0m\u001b[1;33m\u001b[0m\u001b[0m\n",
      "\u001b[1;32mE:\\Anaconda3\\lib\\site-packages\\torch\\nn\\modules\\module.py\u001b[0m in \u001b[0;36m_call_impl\u001b[1;34m(self, *input, **kwargs)\u001b[0m\n\u001b[0;32m    720\u001b[0m             \u001b[0mresult\u001b[0m \u001b[1;33m=\u001b[0m \u001b[0mself\u001b[0m\u001b[1;33m.\u001b[0m\u001b[0m_slow_forward\u001b[0m\u001b[1;33m(\u001b[0m\u001b[1;33m*\u001b[0m\u001b[0minput\u001b[0m\u001b[1;33m,\u001b[0m \u001b[1;33m**\u001b[0m\u001b[0mkwargs\u001b[0m\u001b[1;33m)\u001b[0m\u001b[1;33m\u001b[0m\u001b[0m\n\u001b[0;32m    721\u001b[0m         \u001b[1;32melse\u001b[0m\u001b[1;33m:\u001b[0m\u001b[1;33m\u001b[0m\u001b[0m\n\u001b[1;32m--> 722\u001b[1;33m             \u001b[0mresult\u001b[0m \u001b[1;33m=\u001b[0m \u001b[0mself\u001b[0m\u001b[1;33m.\u001b[0m\u001b[0mforward\u001b[0m\u001b[1;33m(\u001b[0m\u001b[1;33m*\u001b[0m\u001b[0minput\u001b[0m\u001b[1;33m,\u001b[0m \u001b[1;33m**\u001b[0m\u001b[0mkwargs\u001b[0m\u001b[1;33m)\u001b[0m\u001b[1;33m\u001b[0m\u001b[0m\n\u001b[0m\u001b[0;32m    723\u001b[0m         for hook in itertools.chain(\n\u001b[0;32m    724\u001b[0m                 \u001b[0m_global_forward_hooks\u001b[0m\u001b[1;33m.\u001b[0m\u001b[0mvalues\u001b[0m\u001b[1;33m(\u001b[0m\u001b[1;33m)\u001b[0m\u001b[1;33m,\u001b[0m\u001b[1;33m\u001b[0m\u001b[0m\n",
      "\u001b[1;32mE:\\Anaconda3\\lib\\site-packages\\torch\\nn\\modules\\rnn.py\u001b[0m in \u001b[0;36mforward\u001b[1;34m(self, input, hx)\u001b[0m\n\u001b[0;32m    733\u001b[0m         \u001b[1;32mif\u001b[0m \u001b[0mbatch_sizes\u001b[0m \u001b[1;32mis\u001b[0m \u001b[1;32mNone\u001b[0m\u001b[1;33m:\u001b[0m\u001b[1;33m\u001b[0m\u001b[0m\n\u001b[0;32m    734\u001b[0m             result = _VF.gru(input, hx, self._flat_weights, self.bias, self.num_layers,\n\u001b[1;32m--> 735\u001b[1;33m                              self.dropout, self.training, self.bidirectional, self.batch_first)\n\u001b[0m\u001b[0;32m    736\u001b[0m         \u001b[1;32melse\u001b[0m\u001b[1;33m:\u001b[0m\u001b[1;33m\u001b[0m\u001b[0m\n\u001b[0;32m    737\u001b[0m             result = _VF.gru(input, batch_sizes, hx, self._flat_weights, self.bias,\n",
      "\u001b[1;31mKeyboardInterrupt\u001b[0m: "
     ]
    }
   ],
   "source": [
    "from tqdm import tqdm\n",
    "\n",
    "device = torch.device(\"cuda:0\" if torch.cuda.is_available() else \"cpu\")\n",
    "#device = 'cpu'\n",
    "print(device)\n",
    "model.to(device)\n",
    "\n",
    "model.eval()\n",
    "loss_func = nn.CrossEntropyLoss()\n",
    "\n",
    "val_loss =0\n",
    "val_accuracy = 0.0\n",
    "for x, y in tqdm(val_dataloader):\n",
    "        \n",
    "    x = x.to(device)\n",
    "    y = y.to(torch.long).to(device)\n",
    "        \n",
    "    with torch.no_grad():\n",
    "        yhat = model(x)\n",
    "    yhat = model(x)    \n",
    "    y=y.reshape(-1,1000)\n",
    "        \n",
    "    softmax=nn.Softmax(dim=2)\n",
    "    pred = softmax(yhat).argmax(dim=2)\n",
    "    val_accuracy+=(pred==y).sum()\n",
    "        \n",
    "    yhat = yhat.permute(0,2,1)\n",
    "        \n",
    "    loss = loss_func(yhat,y)\n",
    "\n",
    "    val_loss += loss\n",
    "        \n",
    "        \n",
    "val_loss = val_loss / (len(val_dataloader.dataset)//batch_size)\n",
    "val_accuracy = val_accuracy / (len(val_dataloader.dataset)*val_seq_length)\n",
    "print(val_loss)\n",
    "print(val_accuracy)\n",
    "\n",
    "# test_loss =0\n",
    "# test_accuracy = 0.0\n",
    "# for x, y in tqdm(test_dataloader):\n",
    "        \n",
    "#     x = x.to(device)\n",
    "#     y = y.to(torch.long).to(device)\n",
    "        \n",
    "#     with torch.no_grad():\n",
    "#         yhat = model(x)\n",
    "#     yhat = model(x)    \n",
    "#     y=y.reshape(-1,1000)\n",
    "        \n",
    "#     softmax=nn.Softmax(dim=2)\n",
    "#     pred = softmax(yhat).argmax(dim=2)\n",
    "#     test_accuracy+=(pred==y).sum()\n",
    "        \n",
    "#     yhat = yhat.permute(0,2,1)\n",
    "        \n",
    "#     loss = loss_func(yhat,y)\n",
    "\n",
    "#     test_loss += loss\n",
    "        \n",
    "        \n",
    "# test_loss = test_loss / (len(test_dataloader.dataset)//batch_size)\n",
    "# test_accuracy = test_accuracy / (len(test_dataloader.dataset)*test_seq_length)\n",
    "# print(test_loss)\n",
    "# print(test_accuracy)"
   ]
  },
  {
   "cell_type": "code",
   "execution_count": 139,
   "metadata": {},
   "outputs": [
    {
     "name": "stdout",
     "output_type": "stream",
     "text": [
      "(43748, 64)\n",
      "(43748, 1)\n"
     ]
    }
   ],
   "source": [
    "import librosa\n",
    "import os.path as osp\n",
    "import os\n",
    "import numpy as np\n",
    "import h5py\n",
    "from tqdm import tqdm\n",
    "import random\n",
    "\n",
    "\n",
    "English = \"F:\\\\Data\\\\hw_5_train\\\\train_english\"\n",
    "Chinese = \"F:\\\\Data\\\\hw_5_train\\\\train_mandarin\"\n",
    "Hindi   = \"F:\\\\Data\\\\hw_5_train\\\\train_hindi\"\n",
    "\n",
    "M = 1000\n",
    "threshold = 30\n",
    "\n",
    "eng_dir = os.listdir(English)\n",
    "eng_feature = np.zeros((1,64))\n",
    "\n",
    "y, sr = librosa.load(osp.join(English, 'english_0001.wav'), sr=16000)\n",
    "intervals = librosa.effects.split(y, top_db=threshold)\n",
    "y_new = np.zeros((1))\n",
    "for interval in intervals:\n",
    "    y_new = np.concatenate((y_new, y[interval[0]: interval[1]]))\n",
    "y = y_new[1:]\n",
    "mat = librosa.feature.mfcc(y=y, sr=sr, n_mfcc=64, n_fft=int(sr*0.025), hop_length=int(sr*0.010))\n",
    "mat = mat.T\n",
    "eng_feature=np.concatenate([eng_feature,mat],axis=0)\n",
    "\n",
    "eng_feature=eng_feature[1:]\n",
    "eng_label = 0*np.ones((eng_feature.shape[0],1))\n",
    "\n",
    "print(eng_feature.shape)\n",
    "print(eng_label.shape)"
   ]
  },
  {
   "cell_type": "code",
   "execution_count": 140,
   "metadata": {},
   "outputs": [
    {
     "name": "stdout",
     "output_type": "stream",
     "text": [
      "(1, 1000, 64)\n",
      "(1, 1000, 1)\n"
     ]
    }
   ],
   "source": [
    "eng_feature=np.reshape(eng_feature[:1000],(1,-1,64))\n",
    "print(eng_feature.shape)\n",
    "eng_label = np.reshape(eng_label[:1000], (1,-1, 1))\n",
    "print(eng_label.shape)"
   ]
  },
  {
   "cell_type": "code",
   "execution_count": 141,
   "metadata": {},
   "outputs": [],
   "source": [
    "english0003=Dataset(eng_feature,eng_label)\n",
    "eng_0003 = DataLoader(english0003, batch_size=1)"
   ]
  },
  {
   "cell_type": "code",
   "execution_count": 142,
   "metadata": {},
   "outputs": [
    {
     "name": "stderr",
     "output_type": "stream",
     "text": [
      "\r",
      "  0%|          | 0/1 [00:00<?, ?it/s]"
     ]
    },
    {
     "name": "stdout",
     "output_type": "stream",
     "text": [
      "cuda:0\n"
     ]
    },
    {
     "name": "stderr",
     "output_type": "stream",
     "text": [
      "100%|██████████| 1/1 [00:00<00:00,  8.23it/s]\n"
     ]
    }
   ],
   "source": [
    "pred=[]\n",
    "\n",
    "device = torch.device(\"cuda:0\" if torch.cuda.is_available() else \"cpu\")\n",
    "#device = 'cpu'\n",
    "print(device)\n",
    "model.to(device)\n",
    "for x, y in tqdm(eng_0003):\n",
    "  \n",
    "    x = x.to(device)\n",
    "    y = y.to(torch.long).to(device)\n",
    "        \n",
    "    with torch.no_grad():\n",
    "        yhat = model(x)\n",
    "    yhat = model(x)    \n",
    "    y=y.reshape(-1,1)\n",
    "        \n",
    "    softmax=nn.Softmax(dim=2)\n",
    "    pred.append(softmax(yhat).cpu().data.numpy())"
   ]
  },
  {
   "cell_type": "code",
   "execution_count": 143,
   "metadata": {},
   "outputs": [
    {
     "name": "stdout",
     "output_type": "stream",
     "text": [
      "(1, 1, 1000, 3)\n"
     ]
    }
   ],
   "source": [
    "pred=np.asarray(pred) \n",
    "print(pred.shape)"
   ]
  },
  {
   "cell_type": "code",
   "execution_count": 144,
   "metadata": {},
   "outputs": [],
   "source": [
    "pred=pred.reshape(-1,3)"
   ]
  },
  {
   "cell_type": "code",
   "execution_count": 145,
   "metadata": {},
   "outputs": [
    {
     "name": "stdout",
     "output_type": "stream",
     "text": [
      "[0.9291607  0.00966052 0.06117951]\n"
     ]
    }
   ],
   "source": [
    "final = np.mean(pred,axis=0)\n",
    "print(final)"
   ]
  },
  {
   "cell_type": "code",
   "execution_count": 147,
   "metadata": {},
   "outputs": [
    {
     "data": {
      "text/plain": [
       "<matplotlib.legend.Legend at 0x1b9263bb9e8>"
      ]
     },
     "execution_count": 147,
     "metadata": {},
     "output_type": "execute_result"
    },
    {
     "data": {
      "image/png": "[encoded data removed]",
      "text/plain": [
       "<Figure size 432x288 with 1 Axes>"
      ]
     },
     "metadata": {
      "needs_background": "light"
     },
     "output_type": "display_data"
    }
   ],
   "source": [
    "import matplotlib.pyplot as plt\n",
    "plt.plot(pred[:, 0], label='Eng')\n",
    "plt.plot(pred[:, 1], label='Hin')\n",
    "plt.plot(pred[:, 2], label='Chi')\n",
    "plt.title('English_0001.wav')\n",
    "plt.ylabel('Probability')\n",
    "plt.xlabel('Slice')\n",
    "plt.legend()"
   ]
  },
  {
   "cell_type": "code",
   "execution_count": 7,
   "metadata": {},
   "outputs": [
    {
     "name": "stdout",
     "output_type": "stream",
     "text": [
      "cuda:0\n"
     ]
    },
    {
     "data": {
      "text/plain": [
       "'streamming-model.png'"
      ]
     },
     "execution_count": 7,
     "metadata": {},
     "output_type": "execute_result"
    }
   ],
   "source": [
    "from torchviz import make_dot, make_dot_from_trace\n",
    "\n",
    "device = torch.device(\"cuda:0\" if torch.cuda.is_available() else \"cpu\")\n",
    "#device = 'cpu'\n",
    "print(device)\n",
    "model.to(device)\n",
    "x = torch.zeros(1,1000,64, dtype=torch.float, requires_grad=False)\n",
    "x = x.to(device)\n",
    "out = model(x)\n",
    "dot = make_dot(out)\n",
    "dot.format = 'png'\n",
    "dot.render(\"streamming-model\")"
   ]
  },
  {
   "cell_type": "code",
   "execution_count": null,
   "metadata": {},
   "outputs": [],
   "source": []
  }
 ],
 "metadata": {
  "kernelspec": {
   "display_name": "Python 3",
   "language": "python",
   "name": "python3"
  },
  "language_info": {
   "codemirror_mode": {
    "name": "ipython",
    "version": 3
   },
   "file_extension": ".py",
   "mimetype": "text/x-python",
   "name": "python",
   "nbconvert_exporter": "python",
   "pygments_lexer": "ipython3",
   "version": "3.6.5"
  }
 },
 "nbformat": 4,
 "nbformat_minor": 4
}
